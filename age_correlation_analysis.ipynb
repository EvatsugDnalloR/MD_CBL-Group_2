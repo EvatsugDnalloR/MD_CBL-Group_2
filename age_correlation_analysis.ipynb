{
 "cells": [
  {
   "cell_type": "code",
   "id": "initial_id",
   "metadata": {
    "collapsed": true
   },
   "source": [
    "import pandas as pd\n",
    "import numpy as np\n",
    "import matplotlib.pyplot as plt\n",
    "import seaborn as sns\n",
    "from scipy.stats import pearsonr, spearmanr, chi2_contingency\n",
    "import statsmodels.api as sm\n",
    "from sklearn.linear_model import LinearRegression"
   ],
   "outputs": [],
   "execution_count": null
  },
  {
   "metadata": {},
   "cell_type": "code",
   "source": [
    "# Load burglary data\n",
    "burglary = pd.read_csv(\"data/burglary.csv\")\n",
    "burglary = burglary[burglary['Year'] == 2015]\n",
    "\n",
    "burglary_df = burglary.groupby('Ward name').size().reset_index(name='burglary_count')\n",
    "total = burglary_df['burglary_count'].sum()\n",
    "burglary_df['burglary_pct'] = (burglary_df['burglary_count'] / total) * 100\n",
    "\n",
    "# Load the demographic data\n",
    "demographics_df = pd.read_excel(\"data/ward-profiles-excel-version.xls\", sheet_name=\"Data\")\n",
    "\n",
    "# Filter out City of London and other garbage data from demographics data\n",
    "to_filter = [\"City of London\", \"London\", \"England\", \"Source:\"]\n",
    "demographics_df = demographics_df[~demographics_df[\"Ward name\"].isin(to_filter)]\n",
    "# demographics_df = demographics_df.rename(columns={'New code': 'Ward Code'})\n",
    "\n",
    "# Convert data types as needed\n",
    "demographics_df['Population - 2015'] = pd.to_numeric(demographics_df['Population - 2015'], errors='coerce')\n",
    "demographics_df['Children aged 0-15 - 2015'] = pd.to_numeric(demographics_df['Children aged 0-15 - 2015'], errors='coerce')\n",
    "demographics_df['Working-age (16-64) - 2015'] = pd.to_numeric(demographics_df['Working-age (16-64) - 2015'], errors='coerce')\n",
    "demographics_df['Older people aged 65+ - 2015'] = pd.to_numeric(demographics_df['Older people aged 65+ - 2015'], errors='coerce')\n",
    "demographics_df['% All Children aged 0-15 - 2015'] = pd.to_numeric(demographics_df['% All Children aged 0-15 - 2015'], errors='coerce')\n",
    "demographics_df['% All Working-age (16-64) - 2015'] = pd.to_numeric(demographics_df['% All Working-age (16-64) - 2015'], errors='coerce')\n",
    "demographics_df['% All Older people aged 65+ - 2015'] = pd.to_numeric(demographics_df['% All Older people aged 65+ - 2015'], errors='coerce')\n",
    "\n",
    "# Merge demographic data with burglary rate\n",
    "analysis_df = pd.merge(demographics_df, burglary_df, on='Ward name', how='left')\n",
    "\n",
    "analysis_df.head(20)\n"
   ],
   "id": "a7115b8bb702588a",
   "outputs": [],
   "execution_count": null
  },
  {
   "metadata": {},
   "cell_type": "code",
   "source": [
    "children_correlation, p_value = pearsonr(\n",
    "    analysis_df['% All Children aged 0-15 - 2015'],\n",
    "    analysis_df['burglary_pct']\n",
    ")\n",
    "\n",
    "print(f\"Pearson correlation between % children and burglary rate: {children_correlation:.4f} (p-value: {p_value:.4f})\")\n",
    "\n",
    "# Calculate Spearman correlation (non-parametric, handles outliers better)\n",
    "spearman_corr, spearman_p = spearmanr(\n",
    "    analysis_df['% All Children aged 0-15 - 2015'],\n",
    "    analysis_df['burglary_pct']\n",
    ")\n",
    "\n",
    "print(f\"Spearman correlation between % children and burglary rate: {spearman_corr:.4f} (p-value: {spearman_p:.4f})\")\n",
    "\n",
    "# Linear Regression: Burglary Rate vs % Children\n",
    "X = analysis_df[['% All Children aged 0-15 - 2015']]\n",
    "y = analysis_df['burglary_pct']\n",
    "\n",
    "# Add constant for intercept\n",
    "X_with_const = sm.add_constant(X)\n",
    "model = sm.OLS(y, X_with_const).fit()\n",
    "\n",
    "print(\"\\nLinear Regression Results: Burglary Rate vs % Children\")\n",
    "print(model.summary())\n",
    "\n",
    "# Create scatter plot\n",
    "plt.figure(figsize=(10, 6))\n",
    "sns.regplot(\n",
    "    x='% All Children aged 0-15 - 2015',\n",
    "    y='burglary_pct',\n",
    "    data=analysis_df,\n",
    "    scatter_kws={'alpha':0.5},\n",
    "    line_kws={'color':'red'}\n",
    ")\n",
    "plt.title('Relationship Between Child Population % and Burglary Rate')\n",
    "plt.xlabel('Children aged 0-15 (% of population)')\n",
    "plt.ylabel('Burglary Rate per 1000 Population')\n",
    "plt.tight_layout()\n",
    "plt.show()"
   ],
   "id": "55ab300cd546f68e",
   "outputs": [],
   "execution_count": null
  }
 ],
 "metadata": {
  "kernelspec": {
   "display_name": "Python 3",
   "language": "python",
   "name": "python3"
  },
  "language_info": {
   "codemirror_mode": {
    "name": "ipython",
    "version": 2
   },
   "file_extension": ".py",
   "mimetype": "text/x-python",
   "name": "python",
   "nbconvert_exporter": "python",
   "pygments_lexer": "ipython2",
   "version": "2.7.6"
  }
 },
 "nbformat": 4,
 "nbformat_minor": 5
}
