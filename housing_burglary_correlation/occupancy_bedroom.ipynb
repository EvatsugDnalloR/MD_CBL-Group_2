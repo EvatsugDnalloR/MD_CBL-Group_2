{
 "cells": [
  {
   "metadata": {},
   "cell_type": "code",
   "source": [
    "import pandas as pd\n",
    "import numpy as np\n",
    "from scipy.stats import pearsonr\n",
    "import seaborn as sns\n",
    "import matplotlib.pyplot as plt\n",
    "from skbio.stats.composition import ilr\n",
    "from sklearn.linear_model import Ridge\n",
    "from sklearn.preprocessing import StandardScaler\n",
    "import statsmodels.api as sm"
   ],
   "id": "3aaf8c75d92ccc0e",
   "outputs": [],
   "execution_count": null
  },
  {
   "metadata": {},
   "cell_type": "code",
   "source": "# ## 1. Data Preparation & Compositional Setup\n",
   "id": "6da9c505be07eb75",
   "outputs": [],
   "execution_count": null
  },
  {
   "metadata": {},
   "cell_type": "code",
   "source": [
    "# Load occupancy data\n",
    "occupancy = pd.read_excel(\"../data/housing/occupancy_rating_bedrooms_wards.xlsx\", sheet_name=\"2021\")\n",
    "\n",
    "# Filter out City of London\n",
    "occupancy = occupancy[occupancy['local authority code'] != 'E09000001']\n",
    "\n",
    "# Calculate percentages\n",
    "categories = ['Occupancy rating: +2 or more', '+1', '0', '-1', '-2 or less']\n",
    "total_households = occupancy['All Households']\n",
    "\n",
    "for cat in categories:\n",
    "    occupancy[f'pct_{cat}'] = occupancy[cat] / total_households\n",
    "\n",
    "# Add small epsilon to handle zeros\n",
    "occupancy[categories] = occupancy[categories] + 1e-6\n"
   ],
   "id": "1eb76e96229af775",
   "outputs": [],
   "execution_count": null
  },
  {
   "metadata": {},
   "cell_type": "code",
   "source": "# ## 2. Burglary Data Processing\n",
   "id": "870fd5edebd4077d",
   "outputs": [],
   "execution_count": null
  },
  {
   "metadata": {},
   "cell_type": "code",
   "source": [
    "burglary = pd.read_csv(\"../data/burglary.csv\")\n",
    "burglary = burglary[burglary['Year'] == 2021]\n",
    "\n",
    "burglary_df = burglary.groupby('Ward Code').size().reset_index(name='burglary_count')\n",
    "total = burglary_df['burglary_count'].sum()\n",
    "burglary_df['burglary_pct'] = (burglary_df['burglary_count'] / total) * 100\n",
    "\n"
   ],
   "id": "7fc78e481ee85adc",
   "outputs": [],
   "execution_count": null
  },
  {
   "metadata": {},
   "cell_type": "code",
   "source": "# ## 3. Data Merging\n",
   "id": "de2e42b6fbdb2acb",
   "outputs": [],
   "execution_count": null
  },
  {
   "metadata": {},
   "cell_type": "code",
   "source": [
    "merged = pd.merge(\n",
    "    occupancy,\n",
    "    burglary_df,\n",
    "    left_on=\"ward code\",\n",
    "    right_on=\"Ward Code\",\n",
    "    how=\"inner\"\n",
    ")\n",
    "\n",
    "# Verify composition sums\n",
    "merged['check_sum'] = merged[[f'pct_{cat}' for cat in categories]].sum(axis=1)\n",
    "assert np.allclose(merged['check_sum'], 1.0, atol=1e-3), \"Composition percentages don't sum to 1!\"\n"
   ],
   "id": "ef6028747e726b01",
   "outputs": [],
   "execution_count": null
  },
  {
   "metadata": {},
   "cell_type": "code",
   "source": "# ## 4. Compositional Data Analysis (CoDa)\n",
   "id": "33317ebbabeb20e",
   "outputs": [],
   "execution_count": null
  },
  {
   "metadata": {},
   "cell_type": "code",
   "source": [
    "# ILR Transformation\n",
    "composition = merged[[f'pct_{cat}' for cat in categories]].values\n",
    "ilr_transformed = ilr(composition)\n",
    "\n",
    "# Create ILR coordinates\n",
    "n_ilr = ilr_transformed.shape[1]\n",
    "ilr_cols = [f'ILR_{i+1}' for i in range(n_ilr)]\n",
    "merged_ilr = merged.join(pd.DataFrame(ilr_transformed, columns=ilr_cols))\n"
   ],
   "id": "bdbd8b105db8ac9",
   "outputs": [],
   "execution_count": null
  },
  {
   "metadata": {},
   "cell_type": "code",
   "source": "# ## 5. Multivariate Regression Analysis\n",
   "id": "573538ebec3c575c",
   "outputs": [],
   "execution_count": null
  },
  {
   "metadata": {},
   "cell_type": "code",
   "source": [
    "# OLS with ILR coordinates\n",
    "X_ilr = sm.add_constant(merged_ilr[ilr_cols])\n",
    "y = merged_ilr['burglary_pct']\n",
    "\n",
    "model_ilr = sm.OLS(y, X_ilr).fit()\n",
    "print(\"=== ILR Regression Results ===\")\n",
    "print(model_ilr.summary())\n",
    "\n",
    "# Ridge Regression with Original Categories\n",
    "X = merged[[f'pct_{cat}' for cat in categories]]\n",
    "scaler = StandardScaler().fit(X)\n",
    "ridge = Ridge(alpha=1.0).fit(scaler.transform(X), y)\n",
    "\n",
    "print(\"\\n=== Ridge Regression Coefficients ===\")\n",
    "print(pd.Series(ridge.coef_, index=X.columns).sort_values(ascending=False))\n"
   ],
   "id": "e7f37b1b0d1371c9",
   "outputs": [],
   "execution_count": null
  },
  {
   "metadata": {},
   "cell_type": "code",
   "source": "# ## 6. Visualization & Interpretation\n",
   "id": "c9aed9c8f5de3328",
   "outputs": [],
   "execution_count": null
  },
  {
   "metadata": {},
   "cell_type": "code",
   "source": [
    "# Correlation Matrix\n",
    "corr_matrix = merged[[f'pct_{cat}' for cat in categories] + ['burglary_pct']].corr()\n",
    "plt.figure(figsize=(12,8))\n",
    "sns.heatmap(corr_matrix, annot=True, cmap='coolwarm', vmin=-1, vmax=1)\n",
    "plt.title(\"Correlation Matrix: Occupancy Categories vs Burglary Percentage\")\n",
    "plt.show()\n"
   ],
   "id": "b1dacee537c8e9ad",
   "outputs": [],
   "execution_count": null
  },
  {
   "metadata": {},
   "cell_type": "code",
   "source": "# ## 7. Advanced Compositional Visualization\n",
   "id": "b93632daba5b78fb",
   "outputs": [],
   "execution_count": null
  },
  {
   "metadata": {},
   "cell_type": "code",
   "source": [
    "from pycompositions import plot_ternary\n",
    "\n",
    "# Focus on three main components\n",
    "ternary_data = merged[['pct_Occupancy rating: +2 or more',\n",
    "                       'pct_0',\n",
    "                       'pct_-2 or less']].values\n",
    "\n",
    "plt.figure(figsize=(10,8))\n",
    "plot_ternary(\n",
    "    ternary_data,\n",
    "    names=['+2', '0', '-2'],\n",
    "    c=merged['burglary_pct'],\n",
    "    cmap='viridis',\n",
    "    colorbar_label='Burglary Percentage'\n",
    ")\n",
    "plt.title(\"Occupancy Composition vs Burglary Risk\")\n",
    "plt.show()\n"
   ],
   "id": "6c6c34f1fc9a165b",
   "outputs": [],
   "execution_count": null
  },
  {
   "metadata": {},
   "cell_type": "code",
   "source": "# ## 8. Ethical Consideration Analysis\n",
   "id": "95d5dd476061ffe4",
   "outputs": [],
   "execution_count": null
  },
  {
   "metadata": {},
   "cell_type": "code",
   "source": [
    "# Check relationship with deprivation\n",
    "plt.figure(figsize=(10,6))\n",
    "sns.scatterplot(\n",
    "    x='pct_-2 or less',\n",
    "    y='burglary_pct',\n",
    "    hue='local authority name',\n",
    "    data=merged,\n",
    "    palette='tab20',\n",
    "    s=100\n",
    ")\n",
    "plt.title(\"High Overcrowding (-2) vs Burglary Percentage by Borough\")\n",
    "plt.xlabel(\"Percentage of Households with -2 Occupancy Rating\")\n",
    "plt.ylabel(\"Burglary Percentage Contribution\")\n",
    "plt.legend(bbox_to_anchor=(1.05, 1), loc='upper left')\n",
    "plt.show()\n"
   ],
   "id": "7cd8543490d7777c",
   "outputs": [],
   "execution_count": null
  },
  {
   "metadata": {},
   "cell_type": "code",
   "source": "# ## 9. Mixed Effects Modeling\n",
   "id": "c951ec83aab2021d",
   "outputs": [],
   "execution_count": null
  },
  {
   "metadata": {},
   "cell_type": "code",
   "source": [
    "import statsmodels.formula.api as smf\n",
    "\n",
    "# Account for borough-level variability\n",
    "mixed_model = smf.mixedlm(\n",
    "    \"burglary_pct ~ pct_Occupancy rating: +2 or more + pct_0 + pct_-1 + pct_-2 or less\",\n",
    "    data=merged,\n",
    "    groups=merged[\"local authority name\"]\n",
    ").fit()\n",
    "\n",
    "print(\"\\n=== Mixed Effects Model Results ===\")\n",
    "print(mixed_model.summary())"
   ],
   "id": "79fed63f924067f3",
   "outputs": [],
   "execution_count": null
  }
 ],
 "metadata": {
  "kernelspec": {
   "name": "python3",
   "language": "python",
   "display_name": "Python 3 (ipykernel)"
  }
 },
 "nbformat": 5,
 "nbformat_minor": 9
}
