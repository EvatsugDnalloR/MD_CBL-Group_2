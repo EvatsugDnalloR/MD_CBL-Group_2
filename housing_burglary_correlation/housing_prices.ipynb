{
 "cells": [
  {
   "metadata": {},
   "cell_type": "code",
   "source": [
    "# ## 1. Data Preparation - Housing Prices\n",
    "# Convert quarterly house price data to annual averages\n"
   ],
   "id": "11595cdaafc1f486",
   "outputs": [],
   "execution_count": null
  },
  {
   "metadata": {},
   "cell_type": "code",
   "source": [
    "import pandas as pd\n",
    "import numpy as np\n",
    "\n",
    "# Load housing price data\n",
    "hp_df = pd.read_excel(\"../data/housing/land-registry-house-prices-ward.xls\", sheet_name=\"Median\")\n",
    "\n",
    "# Define years of interest\n",
    "years = range(2013, 2018)\n",
    "\n",
    "# Process housing prices\n",
    "hp_data = []\n",
    "for year in years:\n",
    "    # Get all quarterly columns for the year\n",
    "    cols = [f\"Year ending Mar {year}\",\n",
    "            f\"Year ending Jun {year}\",\n",
    "            f\"Year ending Sep {year}\",\n",
    "            f\"Year ending Dec {year}\"]\n",
    "\n",
    "    # Clean and convert to numeric\n",
    "    temp = hp_df[[\"New code\", \"Ward name\", \"Borough name\"] + cols]\n",
    "    temp[cols] = temp[cols].replace({'-': np.nan, ',': ''}, regex=True).astype(float)\n",
    "\n",
    "    # Calculate annual mean\n",
    "    temp[\"Mean_Price\"] = temp[cols].mean(axis=1)\n",
    "    temp[\"Year\"] = year\n",
    "\n",
    "    hp_data.append(temp[[\"New code\", \"Ward name\", \"Borough name\", \"Year\", \"Mean_Price\"]])\n",
    "\n",
    "hp_annual = pd.concat(hp_data)\n"
   ],
   "id": "6d56bf48180187ed",
   "outputs": [],
   "execution_count": null
  },
  {
   "metadata": {},
   "cell_type": "code",
   "source": [
    "# ## 2. Burglary Data Processing\n",
    "# Calculate burglary percentage at ward level\n"
   ],
   "id": "62b2def29ba352d2",
   "outputs": [],
   "execution_count": null
  },
  {
   "metadata": {},
   "cell_type": "code",
   "source": [
    "# Load and process burglary data\n",
    "burglary_counts = []\n",
    "base_path = \"../data/crimes_metropolitan_2011-2017/\"\n",
    "\n",
    "burglary = pd.read_csv(\"../data/burglary.csv\")\n",
    "\n",
    "for year in years:\n",
    "    yearly_burglaries = burglary[burglary[\"Year\"] == year]\n",
    "\n",
    "    # Filter and count burglaries at ward level\n",
    "    yearly_counts = yearly_burglaries.groupby(\"Ward Code\").size().reset_index(name=\"Burglary_Count\")\n",
    "\n",
    "    # Calculate percentage\n",
    "    total_burglaries = yearly_counts[\"Burglary_Count\"].sum()\n",
    "    yearly_counts[\"Burglary_Pct\"] = (yearly_counts[\"Burglary_Count\"] / total_burglaries) * 100\n",
    "    yearly_counts[\"Year\"] = year\n",
    "\n",
    "    burglary_counts.append(yearly_counts)\n",
    "\n",
    "burglary_df = pd.concat(burglary_counts)\n"
   ],
   "id": "8c61e5f2d0c22422",
   "outputs": [],
   "execution_count": null
  },
  {
   "metadata": {},
   "cell_type": "code",
   "source": [
    "# ## 3. Data Merging\n",
    "# Combine housing prices and burglary data\n"
   ],
   "id": "687517312220a70a",
   "outputs": [],
   "execution_count": null
  },
  {
   "metadata": {},
   "cell_type": "code",
   "source": [
    "# Merge datasets\n",
    "merged = pd.merge(\n",
    "    hp_annual,\n",
    "    burglary_df,\n",
    "    left_on=[\"New code\", \"Year\"],\n",
    "    right_on=[\"Ward Code\", \"Year\"],\n",
    "    how=\"inner\"\n",
    ")\n",
    "\n",
    "# Cleanup\n",
    "merged = merged.dropna(subset=[\"Mean_Price\", \"Burglary_Pct\"])\n",
    "merged = merged.rename(columns={\"New code\": \"Ward_Code\"})\n"
   ],
   "id": "3df8ae756d47d480",
   "outputs": [],
   "execution_count": null
  },
  {
   "metadata": {},
   "cell_type": "code",
   "source": "# ## 4. Advanced Correlation Analysis\n",
   "id": "66ad54b32836936",
   "outputs": [],
   "execution_count": null
  },
  {
   "metadata": {},
   "cell_type": "code",
   "source": [
    "from scipy.stats import pearsonr, spearmanr, kendalltau\n",
    "import matplotlib.pyplot as plt\n",
    "import seaborn as sns\n",
    "\n",
    "# Initialize results storage\n",
    "correlation_results = []\n",
    "\n",
    "# Yearly analysis\n",
    "for year in years:\n",
    "    year_data = merged[merged[\"Year\"] == year]\n",
    "\n",
    "# Calculate different correlation measures\n",
    "pearson = pearsonr(year_data[\"Mean_Price\"], year_data[\"Burglary_Pct\"])\n",
    "spearman = spearmanr(year_data[\"Mean_Price\"], year_data[\"Burglary_Pct\"])\n",
    "kendall = kendalltau(year_data[\"Mean_Price\"], year_data[\"Burglary_Pct\"])\n",
    "\n",
    "correlation_results.append({\n",
    "    \"Year\": year,\n",
    "    \"Pearson_r\": pearson[0],\n",
    "    \"Pearson_p\": pearson[1],\n",
    "    \"Spearman_rho\": spearman[0],\n",
    "    \"Spearman_p\": spearman[1],\n",
    "    \"Kendall_tau\": kendall[0],\n",
    "    \"Kendall_p\": kendall[1]\n",
    "})\n",
    "\n",
    "# Convert to DataFrame\n",
    "corr_df = pd.DataFrame(correlation_results)\n"
   ],
   "id": "e8dcde3707c91a2c",
   "outputs": [],
   "execution_count": null
  },
  {
   "metadata": {},
   "cell_type": "code",
   "source": "# ## 5. Visualization\n",
   "id": "cbe5ef6e51e5cc59",
   "outputs": [],
   "execution_count": null
  },
  {
   "metadata": {},
   "cell_type": "code",
   "source": [
    "# Temporal trend of correlations\n",
    "plt.figure(figsize=(12, 6))\n",
    "sns.lineplot(data=corr_df, x=\"Year\", y=\"Pearson_r\", label=\"Pearson\")\n",
    "sns.lineplot(data=corr_df, x=\"Year\", y=\"Spearman_rho\", label=\"Spearman\")\n",
    "sns.lineplot(data=corr_df, x=\"Year\", y=\"Kendall_tau\", label=\"Kendall\")\n",
    "plt.title(\"Correlation Trends: House Prices vs Burglary Percentage\")\n",
    "plt.ylabel(\"Correlation Coefficient\")\n",
    "plt.axhline(0, color=\"gray\", linestyle=\"--\")\n",
    "plt.legend()\n",
    "plt.show()\n"
   ],
   "id": "ae95554580bb0282",
   "outputs": [],
   "execution_count": null
  },
  {
   "metadata": {},
   "cell_type": "code",
   "source": "# ## 6. Regression Analysis\n",
   "id": "422b148fc44da605",
   "outputs": [],
   "execution_count": null
  },
  {
   "metadata": {},
   "cell_type": "code",
   "source": [
    "import statsmodels.api as sm\n",
    "import statsmodels.formula.api as smf\n",
    "\n",
    "# Mixed effects model\n",
    "mixed_model = smf.mixedlm(\n",
    "    \"Burglary_Pct ~ Mean_Price\",\n",
    "    data=merged,\n",
    "    groups=merged[\"Ward_Code\"]\n",
    ").fit()\n",
    "\n",
    "print(mixed_model.summary())\n"
   ],
   "id": "477f320554f8823",
   "outputs": [],
   "execution_count": null
  },
  {
   "metadata": {},
   "cell_type": "code",
   "source": "# ## 7. Geospatial Visualization Prep\n",
   "id": "1a8efd40060908a4",
   "outputs": [],
   "execution_count": null
  },
  {
   "metadata": {},
   "cell_type": "code",
   "source": [
    "import geopandas as gpd\n",
    "\n",
    "# Load ward boundaries\n",
    "wards = gpd.read_file(\"../data/wards_2018/London_Ward.shp\")\n",
    "\n",
    "# Merge with analysis results\n",
    "geo_merged = wards.merge(\n",
    "    merged,\n",
    "    left_on=\"GSS_CODE\",\n",
    "    right_on=\"Ward_Code\",\n",
    "    how=\"inner\"\n",
    ")\n",
    "\n",
    "# Create map\n",
    "fig, ax = plt.subplots(1, 1, figsize=(15, 10))\n",
    "geo_merged.plot(\n",
    "    column=\"Mean_Price\",\n",
    "    cmap=\"viridis\",\n",
    "    legend=True,\n",
    "    ax=ax,\n",
    "    legend_kwds={\"label\": \"Mean House Price (£)\"}\n",
    ")\n",
    "plt.title(\"House Price Distribution Across London Wards\")\n",
    "plt.axis(\"off\")\n",
    "plt.show()"
   ],
   "id": "3b29aa5578ecb6cb",
   "outputs": [],
   "execution_count": null
  }
 ],
 "metadata": {
  "kernelspec": {
   "name": "python3",
   "language": "python",
   "display_name": "Python 3 (ipykernel)"
  }
 },
 "nbformat": 5,
 "nbformat_minor": 9
}
